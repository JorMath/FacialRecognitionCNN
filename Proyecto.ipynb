{
 "cells": [
  {
   "cell_type": "code",
   "execution_count": 2,
   "metadata": {
    "id": "RNQ9SbyA6Rbv"
   },
   "outputs": [],
   "source": [
    "# Importar dependencias iniciales\n",
    "import cv2\n",
    "import os\n",
    "import random\n",
    "import numpy as np\n",
    "from matplotlib import pyplot as plt"
   ]
  },
  {
   "cell_type": "code",
   "execution_count": 2,
   "metadata": {},
   "outputs": [
    {
     "name": "stdout",
     "output_type": "stream",
     "text": [
      "Requirement already satisfied: tensorflow==2.4.1 in c:\\users\\jorma\\appdata\\local\\programs\\python\\python37\\lib\\site-packages (2.4.1)\n",
      "Requirement already satisfied: tensorflow-gpu==2.4.1 in c:\\users\\jorma\\appdata\\local\\programs\\python\\python37\\lib\\site-packages (2.4.1)\n",
      "Requirement already satisfied: opencv-python in c:\\users\\jorma\\appdata\\local\\programs\\python\\python37\\lib\\site-packages (4.9.0.80)\n",
      "Requirement already satisfied: matplotlib in c:\\users\\jorma\\appdata\\local\\programs\\python\\python37\\lib\\site-packages (3.5.3)\n",
      "Requirement already satisfied: absl-py~=0.10 in c:\\users\\jorma\\appdata\\local\\programs\\python\\python37\\lib\\site-packages (from tensorflow==2.4.1) (0.15.0)\n",
      "Requirement already satisfied: astunparse~=1.6.3 in c:\\users\\jorma\\appdata\\local\\programs\\python\\python37\\lib\\site-packages (from tensorflow==2.4.1) (1.6.3)\n",
      "Requirement already satisfied: flatbuffers~=1.12.0 in c:\\users\\jorma\\appdata\\local\\programs\\python\\python37\\lib\\site-packages (from tensorflow==2.4.1) (1.12)\n",
      "Requirement already satisfied: google-pasta~=0.2 in c:\\users\\jorma\\appdata\\local\\programs\\python\\python37\\lib\\site-packages (from tensorflow==2.4.1) (0.2.0)\n",
      "Requirement already satisfied: h5py~=2.10.0 in c:\\users\\jorma\\appdata\\local\\programs\\python\\python37\\lib\\site-packages (from tensorflow==2.4.1) (2.10.0)\n",
      "Requirement already satisfied: keras-preprocessing~=1.1.2 in c:\\users\\jorma\\appdata\\local\\programs\\python\\python37\\lib\\site-packages (from tensorflow==2.4.1) (1.1.2)\n",
      "Requirement already satisfied: numpy~=1.19.2 in c:\\users\\jorma\\appdata\\local\\programs\\python\\python37\\lib\\site-packages (from tensorflow==2.4.1) (1.19.5)\n",
      "Requirement already satisfied: opt-einsum~=3.3.0 in c:\\users\\jorma\\appdata\\local\\programs\\python\\python37\\lib\\site-packages (from tensorflow==2.4.1) (3.3.0)\n",
      "Requirement already satisfied: protobuf>=3.9.2 in c:\\users\\jorma\\appdata\\local\\programs\\python\\python37\\lib\\site-packages (from tensorflow==2.4.1) (3.19.6)\n",
      "Requirement already satisfied: six~=1.15.0 in c:\\users\\jorma\\appdata\\local\\programs\\python\\python37\\lib\\site-packages (from tensorflow==2.4.1) (1.15.0)\n",
      "Requirement already satisfied: termcolor~=1.1.0 in c:\\users\\jorma\\appdata\\local\\programs\\python\\python37\\lib\\site-packages (from tensorflow==2.4.1) (1.1.0)\n",
      "Requirement already satisfied: typing-extensions~=3.7.4 in c:\\users\\jorma\\appdata\\local\\programs\\python\\python37\\lib\\site-packages (from tensorflow==2.4.1) (3.7.4.3)\n",
      "Requirement already satisfied: wheel~=0.35 in c:\\users\\jorma\\appdata\\local\\programs\\python\\python37\\lib\\site-packages (from tensorflow==2.4.1) (0.42.0)\n",
      "Requirement already satisfied: wrapt~=1.12.1 in c:\\users\\jorma\\appdata\\local\\programs\\python\\python37\\lib\\site-packages (from tensorflow==2.4.1) (1.12.1)\n",
      "Requirement already satisfied: gast==0.3.3 in c:\\users\\jorma\\appdata\\local\\programs\\python\\python37\\lib\\site-packages (from tensorflow==2.4.1) (0.3.3)\n",
      "Requirement already satisfied: tensorboard~=2.4 in c:\\users\\jorma\\appdata\\local\\programs\\python\\python37\\lib\\site-packages (from tensorflow==2.4.1) (2.11.2)\n",
      "Requirement already satisfied: tensorflow-estimator<2.5.0,>=2.4.0 in c:\\users\\jorma\\appdata\\local\\programs\\python\\python37\\lib\\site-packages (from tensorflow==2.4.1) (2.4.0)\n",
      "Requirement already satisfied: grpcio~=1.32.0 in c:\\users\\jorma\\appdata\\local\\programs\\python\\python37\\lib\\site-packages (from tensorflow==2.4.1) (1.32.0)\n",
      "Requirement already satisfied: cycler>=0.10 in c:\\users\\jorma\\appdata\\local\\programs\\python\\python37\\lib\\site-packages (from matplotlib) (0.11.0)\n",
      "Requirement already satisfied: fonttools>=4.22.0 in c:\\users\\jorma\\appdata\\local\\programs\\python\\python37\\lib\\site-packages (from matplotlib) (4.38.0)\n",
      "Requirement already satisfied: kiwisolver>=1.0.1 in c:\\users\\jorma\\appdata\\local\\programs\\python\\python37\\lib\\site-packages (from matplotlib) (1.4.5)\n",
      "Requirement already satisfied: packaging>=20.0 in c:\\users\\jorma\\appdata\\local\\programs\\python\\python37\\lib\\site-packages (from matplotlib) (23.2)\n",
      "Requirement already satisfied: pillow>=6.2.0 in c:\\users\\jorma\\appdata\\local\\programs\\python\\python37\\lib\\site-packages (from matplotlib) (9.5.0)\n",
      "Requirement already satisfied: pyparsing>=2.2.1 in c:\\users\\jorma\\appdata\\local\\programs\\python\\python37\\lib\\site-packages (from matplotlib) (3.1.1)\n",
      "Requirement already satisfied: python-dateutil>=2.7 in c:\\users\\jorma\\appdata\\local\\programs\\python\\python37\\lib\\site-packages (from matplotlib) (2.8.2)\n",
      "Requirement already satisfied: google-auth<3,>=1.6.3 in c:\\users\\jorma\\appdata\\local\\programs\\python\\python37\\lib\\site-packages (from tensorboard~=2.4->tensorflow==2.4.1) (2.28.1)\n",
      "Requirement already satisfied: google-auth-oauthlib<0.5,>=0.4.1 in c:\\users\\jorma\\appdata\\local\\programs\\python\\python37\\lib\\site-packages (from tensorboard~=2.4->tensorflow==2.4.1) (0.4.6)\n",
      "Requirement already satisfied: markdown>=2.6.8 in c:\\users\\jorma\\appdata\\local\\programs\\python\\python37\\lib\\site-packages (from tensorboard~=2.4->tensorflow==2.4.1) (3.4.4)\n",
      "Requirement already satisfied: requests<3,>=2.21.0 in c:\\users\\jorma\\appdata\\local\\programs\\python\\python37\\lib\\site-packages (from tensorboard~=2.4->tensorflow==2.4.1) (2.31.0)\n",
      "Requirement already satisfied: setuptools>=41.0.0 in c:\\users\\jorma\\appdata\\local\\programs\\python\\python37\\lib\\site-packages (from tensorboard~=2.4->tensorflow==2.4.1) (68.0.0)\n",
      "Requirement already satisfied: tensorboard-data-server<0.7.0,>=0.6.0 in c:\\users\\jorma\\appdata\\local\\programs\\python\\python37\\lib\\site-packages (from tensorboard~=2.4->tensorflow==2.4.1) (0.6.1)\n",
      "Requirement already satisfied: tensorboard-plugin-wit>=1.6.0 in c:\\users\\jorma\\appdata\\local\\programs\\python\\python37\\lib\\site-packages (from tensorboard~=2.4->tensorflow==2.4.1) (1.8.1)\n",
      "Requirement already satisfied: werkzeug>=1.0.1 in c:\\users\\jorma\\appdata\\local\\programs\\python\\python37\\lib\\site-packages (from tensorboard~=2.4->tensorflow==2.4.1) (2.2.3)\n",
      "Requirement already satisfied: cachetools<6.0,>=2.0.0 in c:\\users\\jorma\\appdata\\local\\programs\\python\\python37\\lib\\site-packages (from google-auth<3,>=1.6.3->tensorboard~=2.4->tensorflow==2.4.1) (5.3.2)\n",
      "Requirement already satisfied: pyasn1-modules>=0.2.1 in c:\\users\\jorma\\appdata\\local\\programs\\python\\python37\\lib\\site-packages (from google-auth<3,>=1.6.3->tensorboard~=2.4->tensorflow==2.4.1) (0.3.0)\n",
      "Requirement already satisfied: rsa<5,>=3.1.4 in c:\\users\\jorma\\appdata\\local\\programs\\python\\python37\\lib\\site-packages (from google-auth<3,>=1.6.3->tensorboard~=2.4->tensorflow==2.4.1) (4.9)\n",
      "Requirement already satisfied: requests-oauthlib>=0.7.0 in c:\\users\\jorma\\appdata\\local\\programs\\python\\python37\\lib\\site-packages (from google-auth-oauthlib<0.5,>=0.4.1->tensorboard~=2.4->tensorflow==2.4.1) (1.3.1)\n",
      "Requirement already satisfied: importlib-metadata>=4.4 in c:\\users\\jorma\\appdata\\local\\programs\\python\\python37\\lib\\site-packages (from markdown>=2.6.8->tensorboard~=2.4->tensorflow==2.4.1) (6.7.0)\n",
      "Requirement already satisfied: charset-normalizer<4,>=2 in c:\\users\\jorma\\appdata\\local\\programs\\python\\python37\\lib\\site-packages (from requests<3,>=2.21.0->tensorboard~=2.4->tensorflow==2.4.1) (3.3.2)\n",
      "Requirement already satisfied: idna<4,>=2.5 in c:\\users\\jorma\\appdata\\local\\programs\\python\\python37\\lib\\site-packages (from requests<3,>=2.21.0->tensorboard~=2.4->tensorflow==2.4.1) (3.6)\n",
      "Requirement already satisfied: urllib3<3,>=1.21.1 in c:\\users\\jorma\\appdata\\local\\programs\\python\\python37\\lib\\site-packages (from requests<3,>=2.21.0->tensorboard~=2.4->tensorflow==2.4.1) (2.0.7)\n",
      "Requirement already satisfied: certifi>=2017.4.17 in c:\\users\\jorma\\appdata\\local\\programs\\python\\python37\\lib\\site-packages (from requests<3,>=2.21.0->tensorboard~=2.4->tensorflow==2.4.1) (2024.2.2)\n",
      "Requirement already satisfied: MarkupSafe>=2.1.1 in c:\\users\\jorma\\appdata\\local\\programs\\python\\python37\\lib\\site-packages (from werkzeug>=1.0.1->tensorboard~=2.4->tensorflow==2.4.1) (2.1.5)\n",
      "Requirement already satisfied: zipp>=0.5 in c:\\users\\jorma\\appdata\\local\\programs\\python\\python37\\lib\\site-packages (from importlib-metadata>=4.4->markdown>=2.6.8->tensorboard~=2.4->tensorflow==2.4.1) (3.15.0)\n",
      "Requirement already satisfied: pyasn1<0.6.0,>=0.4.6 in c:\\users\\jorma\\appdata\\local\\programs\\python\\python37\\lib\\site-packages (from pyasn1-modules>=0.2.1->google-auth<3,>=1.6.3->tensorboard~=2.4->tensorflow==2.4.1) (0.5.1)\n",
      "Requirement already satisfied: oauthlib>=3.0.0 in c:\\users\\jorma\\appdata\\local\\programs\\python\\python37\\lib\\site-packages (from requests-oauthlib>=0.7.0->google-auth-oauthlib<0.5,>=0.4.1->tensorboard~=2.4->tensorflow==2.4.1) (3.2.2)\n"
     ]
    }
   ],
   "source": [
    "!pip install tensorflow==2.4.1 tensorflow-gpu==2.4.1 opencv-python matplotlib"
   ]
  },
  {
   "cell_type": "code",
   "execution_count": 3,
   "metadata": {
    "id": "bxGpRd-s6Rbw"
   },
   "outputs": [],
   "source": [
    "# Importar dependencias\n",
    "import tensorflow as tf\n",
    "from tensorflow.keras.models import Model\n",
    "from tensorflow.keras.layers import Layer, Conv2D, Dense, MaxPooling2D, Input, Flatten"
   ]
  },
  {
   "cell_type": "code",
   "execution_count": 3,
   "metadata": {
    "id": "5h-JaNy36Rbw"
   },
   "outputs": [],
   "source": [
    "# setting GPU Memory Consumption Growth\n",
    "gpus = tf.config.experimental.list_physical_devices('GPU')\n",
    "for gpu in gpus:\n",
    "    tf.config.experimental.set_memory_growth(gpu, True)"
   ]
  },
  {
   "cell_type": "code",
   "execution_count": 4,
   "metadata": {
    "colab": {
     "base_uri": "https://localhost:8080/"
    },
    "id": "McLzR4XK7HMz",
    "outputId": "5cd2d84c-e710-4d95-d9cc-3cce52c1ff6e"
   },
   "outputs": [
    {
     "name": "stdout",
     "output_type": "stream",
     "text": [
      "[PhysicalDevice(name='/physical_device:GPU:0', device_type='GPU')]\n"
     ]
    }
   ],
   "source": [
    "print(gpus)"
   ]
  },
  {
   "cell_type": "code",
   "execution_count": 5,
   "metadata": {
    "id": "KreZlZQq6Rbx"
   },
   "outputs": [],
   "source": [
    "# Agregar los directorios\n",
    "path_positivos = os.path.join('data', 'positive')\n",
    "path_negativos = os.path.join('data', 'negative')\n",
    "path_anchos = os.path.join('data', 'anchor')"
   ]
  },
  {
   "cell_type": "code",
   "execution_count": 11,
   "metadata": {
    "id": "4nCIsYkT6Rbx"
   },
   "outputs": [],
   "source": [
    "# Crear los directorios\n",
    "os.makedirs(path_positivos)\n",
    "os.makedirs(path_negativos)\n",
    "os.makedirs(path_anchos)"
   ]
  },
  {
   "cell_type": "markdown",
   "metadata": {
    "id": "lwv1_uEJ6Rbx"
   },
   "source": [
    "Recolectando la data\n",
    "http://vis-www.cs.umass.edu/lfw/"
   ]
  },
  {
   "cell_type": "code",
   "execution_count": 12,
   "metadata": {
    "id": "TbcDxuU-6Rbx"
   },
   "outputs": [],
   "source": [
    "# Descomprimir el dataset\n",
    "!tar -xf lfw.tgz"
   ]
  },
  {
   "cell_type": "code",
   "execution_count": 13,
   "metadata": {
    "id": "jNuMaJoE6Rby"
   },
   "outputs": [],
   "source": [
    "# Mover la data al directorio data/negative\n",
    "for directory in os.listdir('lfw'):\n",
    "    for file in os.listdir(os.path.join('lfw', directory)):\n",
    "        path_lfw = os.path.join('lfw', directory, file)\n",
    "        data_path = os.path.join(path_negativos, file)\n",
    "        os.replace(path_lfw, data_path)"
   ]
  },
  {
   "cell_type": "code",
   "execution_count": 6,
   "metadata": {
    "colab": {
     "base_uri": "https://localhost:8080/",
     "height": 36
    },
    "id": "q50zbGj66Rby",
    "outputId": "200f5d62-284e-4802-ba0f-762f30209b62"
   },
   "outputs": [
    {
     "data": {
      "text/plain": [
       "'data\\\\anchor\\\\a4b3bade-d42c-11ee-8d8a-ddd1ee8c241e.jpg'"
      ]
     },
     "execution_count": 6,
     "metadata": {},
     "output_type": "execute_result"
    }
   ],
   "source": [
    "# Librería que genera nombres aleatorios\n",
    "import uuid\n",
    "os.path.join(path_anchos, '{}.jpg'.format(uuid.uuid1()))"
   ]
  },
  {
   "cell_type": "markdown",
   "metadata": {
    "id": "Xt1raQrN6Rby"
   },
   "source": [
    "Recolectamos las imágenes en estos dos porque vamos a verificar si es que pertenece a positivo o negativo"
   ]
  },
  {
   "cell_type": "code",
   "execution_count": 15,
   "metadata": {
    "id": "R81ex4706Rbz"
   },
   "outputs": [],
   "source": [
    "# abrir y conectar una cámara\n",
    "cap = cv2.VideoCapture(0)\n",
    "while cap.isOpened():\n",
    "    ret, frame = cap.read()\n",
    "    # Reducir la ventana a 250x250\n",
    "    frame = frame[120:120+250,200:200+250, :]\n",
    "    # Recolectar el ancho para data\n",
    "    if cv2.waitKey(1) & 0XFF == ord('a'):\n",
    "        # Crear el path para guardar la imagen\n",
    "        imgname = os.path.join(path_anchos, '{}.jpg'.format(uuid.uuid1()))\n",
    "        # Escribe la imagen\n",
    "        cv2.imwrite(imgname, frame)\n",
    "\n",
    "    # Recolectar positivos\n",
    "    if cv2.waitKey(1) & 0XFF == ord('p'):\n",
    "        # Crear el path para guardar la imagen\n",
    "        imgname = os.path.join(path_positivos, '{}.jpg'.format(uuid.uuid1()))\n",
    "        # Escribir la imagen\n",
    "        cv2.imwrite(imgname, frame)\n",
    "\n",
    "    # Mostrar la imagen\n",
    "    cv2.imshow('Image Collection', frame)\n",
    "\n",
    "    # Romper el bucle\n",
    "    if cv2.waitKey(1) & 0XFF == ord('q'):\n",
    "        break\n",
    "\n",
    "# Quitar la webcam\n",
    "cap.release()\n",
    "# Destruir todas las ventanas\n",
    "cv2.destroyAllWindows()"
   ]
  },
  {
   "cell_type": "code",
   "execution_count": 16,
   "metadata": {
    "id": "MmgvTpRh6Rbz"
   },
   "outputs": [],
   "source": [
    "#código genérico para realizar data augmentation gracias a tensorflow\n",
    "def data_aug(img):\n",
    "    data = []\n",
    "    for i in range(9):\n",
    "        img = tf.image.stateless_random_brightness(img, max_delta=0.02, seed=(1,2))\n",
    "        img = tf.image.stateless_random_contrast(img, lower=0.6, upper=1, seed=(1,3))\n",
    "        # img = tf.image.stateless_random_crop(img, size=(20,20,3), seed=(1,2))\n",
    "        img = tf.image.stateless_random_flip_left_right(img, seed=(np.random.randint(100),np.random.randint(100)))\n",
    "        img = tf.image.stateless_random_jpeg_quality(img, min_jpeg_quality=90, max_jpeg_quality=100, seed=(np.random.randint(100),np.random.randint(100)))\n",
    "        img = tf.image.stateless_random_saturation(img, lower=0.9,upper=1, seed=(np.random.randint(100),np.random.randint(100)))\n",
    "\n",
    "        data.append(img)\n",
    "\n",
    "    return data\n"
   ]
  },
  {
   "cell_type": "code",
   "execution_count": 17,
   "metadata": {
    "id": "TJLdL3Hz6Rbz"
   },
   "outputs": [],
   "source": [
    "#llamamos a cada una de las imágenes de los positivos, y hacemos por cada una un data augmentation\n",
    "#EJECUTAR DESPUES\n",
    "for file_name in os.listdir(os.path.join(path_positivos)):\n",
    "    img_path = os.path.join(path_positivos, file_name)\n",
    "    img = cv2.imread(img_path)\n",
    "    augmented_images = data_aug(img)\n",
    "    for image in augmented_images:\n",
    "        cv2.imwrite(os.path.join(path_positivos, '{}.jpg'.format(uuid.uuid1())), image.numpy())"
   ]
  },
  {
   "cell_type": "code",
   "execution_count": 18,
   "metadata": {},
   "outputs": [],
   "source": [
    "#llamamos a cada una de las imágenes de los positivos, y hacemos por cada una un data augmentation\n",
    "#EJECUTAR DESPUES\n",
    "for file_name in os.listdir(os.path.join(path_anchos)):\n",
    "    img_path = os.path.join(path_anchos, file_name)\n",
    "    img = cv2.imread(img_path)\n",
    "    augmented_images = data_aug(img)\n",
    "    for image in augmented_images:\n",
    "        cv2.imwrite(os.path.join(path_anchos, '{}.jpg'.format(uuid.uuid1())), image.numpy())"
   ]
  },
  {
   "cell_type": "markdown",
   "metadata": {
    "id": "CPSaZRaL6Rbz"
   },
   "source": [
    "Obtener las imágenes"
   ]
  },
  {
   "cell_type": "code",
   "execution_count": 23,
   "metadata": {
    "id": "vFGqdXi36Rbz"
   },
   "outputs": [],
   "source": [
    "anchor = tf.data.Dataset.list_files(path_anchos+'/*.jpg').take(3000)\n",
    "positive = tf.data.Dataset.list_files(path_positivos+'/*.jpg').take(3000)\n",
    "negative = tf.data.Dataset.list_files(path_negativos+'/*.jpg').take(3000)"
   ]
  },
  {
   "cell_type": "code",
   "execution_count": 24,
   "metadata": {
    "id": "VuhyjP4g6Rbz"
   },
   "outputs": [],
   "source": [
    "#nos permitirá recorrer más facilmente las imágenes\n",
    "dir_test = anchor.as_numpy_iterator()"
   ]
  },
  {
   "cell_type": "code",
   "execution_count": 25,
   "metadata": {
    "colab": {
     "base_uri": "https://localhost:8080/"
    },
    "id": "41z7OwKz6Rbz",
    "outputId": "3524b066-30f6-4c20-dd59-ab20a55b7a06"
   },
   "outputs": [
    {
     "name": "stdout",
     "output_type": "stream",
     "text": [
      "b'data\\\\anchor\\\\4ffb58d8-d41e-11ee-9831-ddd1ee8c241e.jpg'\n"
     ]
    }
   ],
   "source": [
    "print(dir_test.next())"
   ]
  },
  {
   "cell_type": "markdown",
   "metadata": {
    "id": "j4p8lpLj6Rb0"
   },
   "source": [
    "Preprocesamiento de cada imagen"
   ]
  },
  {
   "cell_type": "code",
   "execution_count": 10,
   "metadata": {
    "id": "JRuAzYbC6Rb0"
   },
   "outputs": [],
   "source": [
    "#devuelve cada imagen como un arreglo de decodificaciones normalizado de 0 a 1\n",
    "def preprocess(file_path):\n",
    "    img_byte = tf.io.read_file(file_path)\n",
    "    img = tf.io.decode_jpeg(img_byte)\n",
    "    img = tf.image.resize(img, (100,100))\n",
    "    img = img/255.0\n",
    "    return img"
   ]
  },
  {
   "cell_type": "code",
   "execution_count": 27,
   "metadata": {
    "colab": {
     "base_uri": "https://localhost:8080/"
    },
    "id": "gVGH3yTp6Rb0",
    "outputId": "730b2efc-99e9-4ec5-9453-419d4e5402aa"
   },
   "outputs": [
    {
     "data": {
      "text/plain": [
       "<tf.Tensor: shape=(3000,), dtype=float32, numpy=array([1., 1., 1., ..., 1., 1., 1.], dtype=float32)>"
      ]
     },
     "execution_count": 27,
     "metadata": {},
     "output_type": "execute_result"
    }
   ],
   "source": [
    "#(anchor, positive) => 1,1,1,1,1\n",
    "#(anchor, negative) => 0,0,0,0,0\n",
    "#se agregan los labels para cada clase\n",
    "positives = tf.data.Dataset.zip((anchor,positive,tf.data.Dataset.from_tensor_slices(tf.ones(len(anchor)))))\n",
    "negatives = tf.data.Dataset.zip((anchor,negative,tf.data.Dataset.from_tensor_slices(tf.zeros(len(anchor)))))\n",
    "data = positives.concatenate(negatives)\n",
    "tf.ones(len(anchor))"
   ]
  },
  {
   "cell_type": "code",
   "execution_count": 28,
   "metadata": {
    "colab": {
     "base_uri": "https://localhost:8080/"
    },
    "id": "3e7_8PVZ6Rb0",
    "outputId": "25b284e8-82c6-4047-cd90-43e408ad8e2d"
   },
   "outputs": [
    {
     "data": {
      "text/plain": [
       "<tf.Tensor: shape=(3000,), dtype=float32, numpy=array([0., 0., 0., ..., 0., 0., 0.], dtype=float32)>"
      ]
     },
     "execution_count": 28,
     "metadata": {},
     "output_type": "execute_result"
    }
   ],
   "source": [
    "tf.zeros(len(anchor))"
   ]
  },
  {
   "cell_type": "code",
   "execution_count": 29,
   "metadata": {
    "id": "3vvxvdS46Rb0"
   },
   "outputs": [],
   "source": [
    "sample = data.as_numpy_iterator()"
   ]
  },
  {
   "cell_type": "code",
   "execution_count": 30,
   "metadata": {
    "colab": {
     "base_uri": "https://localhost:8080/"
    },
    "id": "vEWd3p_y6Rb0",
    "outputId": "b996976a-321d-414f-d3eb-43475aeba328"
   },
   "outputs": [],
   "source": [
    "example = sample.next()"
   ]
  },
  {
   "cell_type": "code",
   "execution_count": 31,
   "metadata": {},
   "outputs": [
    {
     "data": {
      "text/plain": [
       "(b'data\\\\anchor\\\\49c41952-d41e-11ee-9fc4-ddd1ee8c241e.jpg',\n",
       " b'data\\\\positive\\\\0b1321a2-d41e-11ee-9021-ddd1ee8c241e.jpg',\n",
       " 1.0)"
      ]
     },
     "execution_count": 31,
     "metadata": {},
     "output_type": "execute_result"
    }
   ],
   "source": [
    "example"
   ]
  },
  {
   "cell_type": "code",
   "execution_count": 32,
   "metadata": {},
   "outputs": [],
   "source": [
    "def preprocess_etiquetado(img_entrada, img_validacion, etiqueta):\n",
    "    return(preprocess(img_entrada), preprocess(img_validacion), etiqueta)\n"
   ]
  },
  {
   "cell_type": "code",
   "execution_count": 33,
   "metadata": {},
   "outputs": [],
   "source": [
    "res = preprocess_etiquetado(*example)\n"
   ]
  },
  {
   "cell_type": "code",
   "execution_count": 34,
   "metadata": {
    "colab": {
     "base_uri": "https://localhost:8080/",
     "height": 450
    },
    "id": "mWCemWMw6Rb1",
    "outputId": "ee813891-4503-4e11-f59e-563c4a5c487e"
   },
   "outputs": [
    {
     "data": {
      "text/plain": [
       "<matplotlib.image.AxesImage at 0x2b4c899fc88>"
      ]
     },
     "execution_count": 34,
     "metadata": {},
     "output_type": "execute_result"
    },
    {
     "data": {
      "image/png": "[encoded data removed]",
      "text/plain": [
       "<Figure size 640x480 with 1 Axes>"
      ]
     },
     "metadata": {},
     "output_type": "display_data"
    }
   ],
   "source": [
    "plt.imshow(res[1])"
   ]
  },
  {
   "cell_type": "code",
   "execution_count": 35,
   "metadata": {
    "colab": {
     "base_uri": "https://localhost:8080/"
    },
    "id": "iHKiW8YB6Rb1",
    "outputId": "13984311-4421-400c-f353-3216ee3cfa91"
   },
   "outputs": [
    {
     "data": {
      "text/plain": [
       "1.0"
      ]
     },
     "execution_count": 35,
     "metadata": {},
     "output_type": "execute_result"
    }
   ],
   "source": [
    "res[2]"
   ]
  },
  {
   "cell_type": "code",
   "execution_count": 36,
   "metadata": {},
   "outputs": [],
   "source": [
    "#construir el sitio para cargar los datos\n",
    "data = data.map(preprocess_etiquetado)\n",
    "data = data.cache()\n",
    "data = data.shuffle(buffer_size=10000)"
   ]
  },
  {
   "cell_type": "code",
   "execution_count": 37,
   "metadata": {
    "id": "vO1QuSLH6Rb1"
   },
   "outputs": [],
   "source": [
    "#Dividir los datos para entrenamiento\n",
    "#escoger un lote y prefetch para evitar bottleneck\n",
    "train_data = data.take(round(len(data)*.7))\n",
    "train_data = train_data.batch(16)\n",
    "train_data = train_data.prefetch(8)"
   ]
  },
  {
   "cell_type": "code",
   "execution_count": 38,
   "metadata": {
    "id": "AN_5Mctv6Rb1"
   },
   "outputs": [],
   "source": [
    "#Dividir los datos para prueba\n",
    "#se crea una layer más para especificar el batch\n",
    "test_data = data.skip(round(len(data)*.7))\n",
    "test_data = test_data.take(round(len(data)*.3))\n",
    "test_data = test_data.batch(16)\n",
    "test_data = test_data.prefetch(8)"
   ]
  },
  {
   "cell_type": "markdown",
   "metadata": {
    "id": "l6bJO3lG6Rb1"
   },
   "source": [
    "- Creación de capa de embedding y de distancia\n",
    "- Red Neuronal Convolucional Siamesa"
   ]
  },
  {
   "cell_type": "code",
   "execution_count": 39,
   "metadata": {
    "id": "PKNrJfAT6Rb1"
   },
   "outputs": [],
   "source": [
    "def realizar_embedding():\n",
    "    inp = Input(shape=(100,100,3),name='img_entrada')\n",
    "    #Filtro de 64, acivacion relu, primer bloque\n",
    "    conv1 = Conv2D(64, (10,10), activation='relu')(inp)\n",
    "    mxpl1 = MaxPooling2D(64,(2,2),padding='same')(conv1)\n",
    "    #Segundo bloque\n",
    "    conv2 = Conv2D(128, (7,7), activation='relu')(mxpl1)\n",
    "    mxpl2 = MaxPooling2D(64,(2,2),padding='same')(conv2)\n",
    "    #Tercer bloque\n",
    "    conv3 = Conv2D(128, (4,4), activation='relu')(mxpl2)\n",
    "    mxpl3 = MaxPooling2D(64,(2,2),padding='same')(conv3)\n",
    "    #Cuarto bloque y último\n",
    "    conv4 = Conv2D(256, (4,4), activation='relu')(mxpl3)\n",
    "    #Capa \"fully connected\"\n",
    "    flatt = Flatten()(conv4)\n",
    "    dense = Dense(4096,activation='sigmoid')(flatt)\n",
    "\n",
    "    return Model(inputs=[inp],outputs=[dense],name='embedding')"
   ]
  },
  {
   "cell_type": "code",
   "execution_count": 40,
   "metadata": {
    "id": "Ya-uRO4J6Rb1"
   },
   "outputs": [],
   "source": [
    "embedding = realizar_embedding()"
   ]
  },
  {
   "cell_type": "code",
   "execution_count": 41,
   "metadata": {
    "colab": {
     "base_uri": "https://localhost:8080/"
    },
    "id": "T0fzxN5V6Rb2",
    "outputId": "e39aefa1-855d-4124-9957-79b929b66197"
   },
   "outputs": [
    {
     "name": "stdout",
     "output_type": "stream",
     "text": [
      "Model: \"embedding\"\n",
      "_________________________________________________________________\n",
      "Layer (type)                 Output Shape              Param #   \n",
      "=================================================================\n",
      "img_entrada (InputLayer)     [(None, 100, 100, 3)]     0         \n",
      "_________________________________________________________________\n",
      "conv2d (Conv2D)              (None, 91, 91, 64)        19264     \n",
      "_________________________________________________________________\n",
      "max_pooling2d (MaxPooling2D) (None, 46, 46, 64)        0         \n",
      "_________________________________________________________________\n",
      "conv2d_1 (Conv2D)            (None, 40, 40, 128)       401536    \n",
      "_________________________________________________________________\n",
      "max_pooling2d_1 (MaxPooling2 (None, 20, 20, 128)       0         \n",
      "_________________________________________________________________\n",
      "conv2d_2 (Conv2D)            (None, 17, 17, 128)       262272    \n",
      "_________________________________________________________________\n",
      "max_pooling2d_2 (MaxPooling2 (None, 9, 9, 128)         0         \n",
      "_________________________________________________________________\n",
      "conv2d_3 (Conv2D)            (None, 6, 6, 256)         524544    \n",
      "_________________________________________________________________\n",
      "flatten (Flatten)            (None, 9216)              0         \n",
      "_________________________________________________________________\n",
      "dense (Dense)                (None, 4096)              37752832  \n",
      "=================================================================\n",
      "Total params: 38,960,448\n",
      "Trainable params: 38,960,448\n",
      "Non-trainable params: 0\n",
      "_________________________________________________________________\n"
     ]
    }
   ],
   "source": [
    "embedding.summary()"
   ]
  },
  {
   "cell_type": "markdown",
   "metadata": {
    "id": "97qe-ySR6Rb2"
   },
   "source": [
    "Realizar la capa de distancia"
   ]
  },
  {
   "cell_type": "code",
   "execution_count": 6,
   "metadata": {
    "id": "dohgFtFC6Rb2"
   },
   "outputs": [],
   "source": [
    "#Capa personalizable para exportar el modelo\n",
    "#Le pasamos la clase Layer de keras\n",
    "class L1Dist(Layer):\n",
    "    # Inicializar método\n",
    "    def __init__(self, **kwargs):\n",
    "        super().__init__()\n",
    "\n",
    "    # Qué hacer cuando se le pasan datos, aquí se combinan las dos\n",
    "    # redes que al principio estaban separadas\n",
    "    #se realiza un porcentaje de similitud por así decirlo\n",
    "    def call(self, input_embedding, validation_embedding):\n",
    "        return tf.math.abs(input_embedding - validation_embedding)"
   ]
  },
  {
   "cell_type": "markdown",
   "metadata": {
    "id": "7IepI8eu6Rb2"
   },
   "source": [
    "Definir el modelo de Red Siamesa"
   ]
  },
  {
   "cell_type": "code",
   "execution_count": 43,
   "metadata": {
    "id": "9omEBVVt6Rb2"
   },
   "outputs": [],
   "source": [
    "def crear_red_siamesa():\n",
    "    input_image = Input(name='img_entrada', shape=(100,100,3))\n",
    "    validation_image = Input(name='img_validacion',shape=(100,100,3))\n",
    "    #combinar los componentes\n",
    "    capa_siamesa = L1Dist()\n",
    "    capa_siamesa._name = 'distance'\n",
    "    distancias = capa_siamesa(embedding(input_image),embedding(validation_image))\n",
    "    #definimos la capa de salida\n",
    "    clasificador = Dense(1, activation='sigmoid')(distancias)\n",
    "    return Model(inputs=[input_image, validation_image],outputs=clasificador,name='RedSiamesa')"
   ]
  },
  {
   "cell_type": "code",
   "execution_count": 44,
   "metadata": {
    "id": "rAMPE48w6Rb2"
   },
   "outputs": [],
   "source": [
    "red_final = crear_red_siamesa()"
   ]
  },
  {
   "cell_type": "markdown",
   "metadata": {
    "id": "T0h9pI296Rb-"
   },
   "source": [
    "Ahora sí, entrenamiento"
   ]
  },
  {
   "cell_type": "code",
   "execution_count": 45,
   "metadata": {
    "colab": {
     "base_uri": "https://localhost:8080/"
    },
    "id": "z8ZRdv4r6Rb-",
    "outputId": "4a90eda5-8f7c-4241-f01f-ff08a5fb0380"
   },
   "outputs": [
    {
     "name": "stdout",
     "output_type": "stream",
     "text": [
      "Model: \"RedSiamesa\"\n",
      "__________________________________________________________________________________________________\n",
      "Layer (type)                    Output Shape         Param #     Connected to                     \n",
      "==================================================================================================\n",
      "img_entrada (InputLayer)        [(None, 100, 100, 3) 0                                            \n",
      "__________________________________________________________________________________________________\n",
      "img_validacion (InputLayer)     [(None, 100, 100, 3) 0                                            \n",
      "__________________________________________________________________________________________________\n",
      "embedding (Functional)          (None, 4096)         38960448    img_entrada[0][0]                \n",
      "                                                                 img_validacion[0][0]             \n",
      "__________________________________________________________________________________________________\n",
      "distance (L1Dist)               (None, 4096)         0           embedding[0][0]                  \n",
      "                                                                 embedding[1][0]                  \n",
      "__________________________________________________________________________________________________\n",
      "dense_1 (Dense)                 (None, 1)            4097        distance[0][0]                   \n",
      "==================================================================================================\n",
      "Total params: 38,964,545\n",
      "Trainable params: 38,964,545\n",
      "Non-trainable params: 0\n",
      "__________________________________________________________________________________________________\n"
     ]
    }
   ],
   "source": [
    "red_final.summary()"
   ]
  },
  {
   "cell_type": "markdown",
   "metadata": {
    "id": "jn--qkAL6Rb-"
   },
   "source": [
    "Ahora sí el entrenamiento"
   ]
  },
  {
   "cell_type": "code",
   "execution_count": 46,
   "metadata": {
    "id": "SCeYF-0m6Rb-"
   },
   "outputs": [],
   "source": [
    "#Crear la pérdida y el optimizador\n",
    "loss_cross = tf.losses.BinaryCrossentropy()\n",
    "optimizer_cross = tf.keras.optimizers.Adam(1e-4) #0.0001 de learning rate"
   ]
  },
  {
   "cell_type": "code",
   "execution_count": 47,
   "metadata": {
    "id": "xmXwqsK76Rb-"
   },
   "outputs": [],
   "source": [
    "checkpoint_dir = './training_checkpoints'\n",
    "checkpoint_prefix = os.path.join(checkpoint_dir, 'ckpt')\n",
    "checkpoint = tf.train.Checkpoint(opt=optimizer_cross, siamese_model=red_final)"
   ]
  },
  {
   "cell_type": "markdown",
   "metadata": {
    "id": "o0XpW7U06Rb-"
   },
   "source": [
    "Construimos la función de entrenamiento por pasos"
   ]
  },
  {
   "cell_type": "code",
   "execution_count": 48,
   "metadata": {
    "id": "I99mxJdg6Rb_"
   },
   "outputs": [],
   "source": [
    "@tf.function\n",
    "def train_step(batch):\n",
    "    #Obtener los gradientes para calcular la diferenciación de las imágenes\n",
    "\n",
    "    with tf.GradientTape() as tape:\n",
    "        #Obtener las imagenes de ancla, positiva y negativa\n",
    "        X = batch[:2]\n",
    "        #Obtener la etiqueta\n",
    "        Y = batch[2]\n",
    "        #Un paso hacia adelante para el entranamiento\n",
    "        yhat = red_final(X,training=True)\n",
    "        #Calcular pérdida\n",
    "        loss = loss_cross(Y, yhat)\n",
    "    print(loss)\n",
    "    #Calcular los gradientes\n",
    "    grad = tape.gradient(loss,red_final.trainable_variables)\n",
    "    #Calcular los pesos actualizados y aplicarlos al modelo\n",
    "    optimizer_cross.apply_gradients(zip(grad, red_final.trainable_variables))\n",
    "    #Retornar la pérdida\n",
    "    return loss"
   ]
  },
  {
   "cell_type": "markdown",
   "metadata": {
    "id": "kQUUsUZV6Rb_"
   },
   "source": [
    "Creando nuestro propio iterador de entrenamiento"
   ]
  },
  {
   "cell_type": "code",
   "execution_count": 4,
   "metadata": {
    "id": "FSLn5zcA6Rb_"
   },
   "outputs": [],
   "source": [
    "#Importar métricas de cálculo\n",
    "from tensorflow.keras.metrics import Precision, Recall"
   ]
  },
  {
   "cell_type": "code",
   "execution_count": 50,
   "metadata": {
    "id": "RpZDd6XH6Rb_"
   },
   "outputs": [],
   "source": [
    "def entrenar(data, epocas):\n",
    "    #Iterar entre las épocas\n",
    "    for epoch in range(1, epocas+1):\n",
    "        print('\\nEpoca: {}/{}'.format(epoch,epocas))\n",
    "        progreso = tf.keras.utils.Progbar(len(data))\n",
    "        #Creando una métrica para cada objeto\n",
    "        r = Recall()\n",
    "        p = Precision()\n",
    "        #Iterar entre cada batch\n",
    "        for idx, batch in enumerate(data):\n",
    "            #Aquí se va a entrenar\n",
    "            loss = train_step(batch)\n",
    "            yhat = red_final.predict(batch[:2])\n",
    "            r.update_state(batch[2],yhat)\n",
    "            p.update_state(batch[2],yhat)\n",
    "            progreso.update(idx+1)\n",
    "        print(loss.numpy(),r.result().numpy(),p.result().numpy())\n",
    "        #Guardar los checkpoints\n",
    "        if epoch % 10 == 0:\n",
    "            checkpoint.save(file_prefix=checkpoint_prefix)\n"
   ]
  },
  {
   "cell_type": "markdown",
   "metadata": {
    "id": "HEAdQBjB6Rb_"
   },
   "source": [
    "Entrenando"
   ]
  },
  {
   "cell_type": "code",
   "execution_count": 51,
   "metadata": {
    "colab": {
     "base_uri": "https://localhost:8080/"
    },
    "id": "BELg4MP26Rb_",
    "outputId": "851186a0-25d3-4c9a-da98-511a38f888bc"
   },
   "outputs": [
    {
     "name": "stdout",
     "output_type": "stream",
     "text": [
      "\n",
      "Epoca: 1/50\n",
      "Tensor(\"binary_crossentropy/weighted_loss/value:0\", shape=(), dtype=float32)\n",
      "Tensor(\"binary_crossentropy/weighted_loss/value:0\", shape=(), dtype=float32)\n",
      "262/263 [============================>.] - ETA: 0sTensor(\"binary_crossentropy/weighted_loss/value:0\", shape=(), dtype=float32)\n",
      "263/263 [==============================] - 170s 512ms/step\n",
      "0.0077645145 0.93904763 0.9964629\n",
      "\n",
      "Epoca: 2/50\n",
      "263/263 [==============================] - 138s 524ms/step\n",
      "0.051946595 0.99007094 0.9990458\n",
      "\n",
      "Epoca: 3/50\n",
      "263/263 [==============================] - 135s 514ms/step\n",
      "0.0006831802 0.98722196 0.99333334\n",
      "\n",
      "Epoca: 4/50\n",
      "263/263 [==============================] - 137s 519ms/step\n",
      "0.016203802 0.9917795 0.9990258\n",
      "\n",
      "Epoca: 5/50\n",
      "263/263 [==============================] - 140s 531ms/step\n",
      "0.00074776786 0.9961796 0.99952084\n",
      "\n",
      "Epoca: 6/50\n",
      "263/263 [==============================] - 137s 521ms/step\n",
      "0.055602156 0.9971537 0.9990494\n",
      "\n",
      "Epoca: 7/50\n",
      "263/263 [==============================] - 131s 499ms/step\n",
      "0.0002360583 0.9995292 1.0\n",
      "\n",
      "Epoca: 8/50\n",
      "263/263 [==============================] - 131s 499ms/step\n",
      "0.06923108 0.99527633 1.0\n",
      "\n",
      "Epoca: 9/50\n",
      "263/263 [==============================] - 134s 510ms/step\n",
      "5.9946844e-05 0.99857885 1.0\n",
      "\n",
      "Epoca: 10/50\n",
      "263/263 [==============================] - 138s 525ms/step\n",
      "0.00042112806 0.9956793 0.9995181\n",
      "\n",
      "Epoca: 11/50\n",
      "263/263 [==============================] - 135s 513ms/step\n",
      "2.6086753e-05 0.9995227 1.0\n",
      "\n",
      "Epoca: 12/50\n",
      "263/263 [==============================] - 135s 512ms/step\n",
      "5.9179063e-05 1.0 1.0\n",
      "\n",
      "Epoca: 13/50\n",
      "263/263 [==============================] - 134s 511ms/step\n",
      "0.107537754 0.9928876 0.9995227\n",
      "\n",
      "Epoca: 14/50\n",
      "263/263 [==============================] - 134s 508ms/step\n",
      "2.0206924e-05 0.9631728 0.9936678\n",
      "\n",
      "Epoca: 15/50\n",
      "263/263 [==============================] - 127s 484ms/step\n",
      "0.06254427 0.9966507 1.0\n",
      "\n",
      "Epoca: 16/50\n",
      "263/263 [==============================] - 125s 475ms/step\n",
      "0.004507319 0.9976337 1.0\n",
      "\n",
      "Epoca: 17/50\n",
      "263/263 [==============================] - 129s 489ms/step\n",
      "0.00053720013 1.0 1.0\n",
      "\n",
      "Epoca: 18/50\n",
      "263/263 [==============================] - 129s 490ms/step\n",
      "2.2351744e-08 1.0 1.0\n",
      "\n",
      "Epoca: 19/50\n",
      "263/263 [==============================] - 130s 494ms/step\n",
      "0.00090309425 1.0 1.0\n",
      "\n",
      "Epoca: 20/50\n",
      "263/263 [==============================] - 132s 502ms/step\n",
      "4.113397e-05 1.0 1.0\n",
      "\n",
      "Epoca: 21/50\n",
      "263/263 [==============================] - 131s 498ms/step\n",
      "1.1101409e-06 1.0 1.0\n",
      "\n",
      "Epoca: 22/50\n",
      "263/263 [==============================] - 129s 489ms/step\n",
      "1.1489256e-05 1.0 1.0\n",
      "\n",
      "Epoca: 23/50\n",
      "263/263 [==============================] - 127s 481ms/step\n",
      "2.257538e-06 1.0 1.0\n",
      "\n",
      "Epoca: 24/50\n",
      "263/263 [==============================] - 129s 491ms/step\n",
      "3.710425e-06 1.0 1.0\n",
      "\n",
      "Epoca: 25/50\n",
      "263/263 [==============================] - 127s 483ms/step\n",
      "0.000102360726 1.0 1.0\n",
      "\n",
      "Epoca: 26/50\n",
      "263/263 [==============================] - 130s 496ms/step\n",
      "2.4738214e-05 1.0 1.0\n",
      "\n",
      "Epoca: 27/50\n",
      "263/263 [==============================] - 126s 481ms/step\n",
      "4.1574594e-06 1.0 1.0\n",
      "\n",
      "Epoca: 28/50\n",
      "263/263 [==============================] - 124s 472ms/step\n",
      "8.739758e-06 1.0 1.0\n",
      "\n",
      "Epoca: 29/50\n",
      "263/263 [==============================] - 127s 482ms/step\n",
      "3.807824e-05 1.0 1.0\n",
      "\n",
      "Epoca: 30/50\n",
      "263/263 [==============================] - 132s 503ms/step\n",
      "3.5342648e-05 1.0 1.0\n",
      "\n",
      "Epoca: 31/50\n",
      "263/263 [==============================] - 132s 503ms/step\n",
      "4.3213433e-07 1.0 1.0\n",
      "\n",
      "Epoca: 32/50\n",
      "263/263 [==============================] - 131s 498ms/step\n",
      "2.1383348e-06 1.0 1.0\n",
      "\n",
      "Epoca: 33/50\n",
      "263/263 [==============================] - 131s 499ms/step\n",
      "4.3512114e-06 1.0 1.0\n",
      "\n",
      "Epoca: 34/50\n",
      "263/263 [==============================] - 129s 491ms/step\n",
      "3.941411e-06 1.0 1.0\n",
      "\n",
      "Epoca: 35/50\n",
      "263/263 [==============================] - 134s 508ms/step\n",
      "3.129245e-07 1.0 1.0\n",
      "\n",
      "Epoca: 36/50\n",
      "263/263 [==============================] - 133s 506ms/step\n",
      "6.407507e-07 1.0 1.0\n",
      "\n",
      "Epoca: 37/50\n",
      "263/263 [==============================] - 132s 500ms/step\n",
      "3.5241742e-06 1.0 1.0\n",
      "\n",
      "Epoca: 38/50\n",
      "263/263 [==============================] - 128s 486ms/step\n",
      "2.2351744e-08 1.0 1.0\n",
      "\n",
      "Epoca: 39/50\n",
      "263/263 [==============================] - 129s 489ms/step\n",
      "7.450581e-09 1.0 1.0\n",
      "\n",
      "Epoca: 40/50\n",
      "263/263 [==============================] - 135s 511ms/step\n",
      "3.1676347e-05 1.0 1.0\n",
      "\n",
      "Epoca: 41/50\n",
      "263/263 [==============================] - 131s 498ms/step\n",
      "-0.0 1.0 1.0\n",
      "\n",
      "Epoca: 42/50\n",
      "263/263 [==============================] - 128s 486ms/step\n",
      "-0.0 1.0 1.0\n",
      "\n",
      "Epoca: 43/50\n",
      "263/263 [==============================] - 130s 493ms/step\n",
      "8.322446e-06 1.0 1.0\n",
      "\n",
      "Epoca: 44/50\n",
      "263/263 [==============================] - 132s 502ms/step\n",
      "1.4901163e-08 1.0 1.0\n",
      "\n",
      "Epoca: 45/50\n",
      "263/263 [==============================] - 130s 495ms/step\n",
      "7.450581e-09 1.0 1.0\n",
      "\n",
      "Epoca: 46/50\n",
      "263/263 [==============================] - 134s 508ms/step\n",
      "7.450582e-08 1.0 1.0\n",
      "\n",
      "Epoca: 47/50\n",
      "263/263 [==============================] - 129s 492ms/step\n",
      "-0.0 1.0 1.0\n",
      "\n",
      "Epoca: 48/50\n",
      "263/263 [==============================] - 125s 476ms/step\n",
      "1.8217845e-05 0.9918465 0.98711216\n",
      "\n",
      "Epoca: 49/50\n",
      "263/263 [==============================] - 128s 487ms/step\n",
      "0.040201854 0.9990503 0.99574065\n",
      "\n",
      "Epoca: 50/50\n",
      "263/263 [==============================] - 132s 501ms/step\n",
      "0.056492392 1.0 0.9995206\n"
     ]
    }
   ],
   "source": [
    "epocasElegidas = 50\n",
    "entrenar(train_data, epocasElegidas)\n"
   ]
  },
  {
   "cell_type": "code",
   "execution_count": 5,
   "metadata": {
    "id": "L-ttRJuIB8gI"
   },
   "outputs": [],
   "source": [
    "# Importar métricas para calcular\n",
    "from tensorflow.keras.metrics import Precision, Recall"
   ]
  },
  {
   "cell_type": "code",
   "execution_count": 53,
   "metadata": {
    "id": "vOiCJKwACGBN"
   },
   "outputs": [],
   "source": [
    "# Sacar un lote para validar los datos\n",
    "test_input, test_val, y_true = test_data.as_numpy_iterator().next()"
   ]
  },
  {
   "cell_type": "code",
   "execution_count": 54,
   "metadata": {
    "colab": {
     "base_uri": "https://localhost:8080/"
    },
    "id": "4slUjr5jCQEL",
    "outputId": "c4eff77a-930a-45e8-bebf-db97c3494096"
   },
   "outputs": [],
   "source": [
    "y_hat = red_final.predict([test_input, test_val])"
   ]
  },
  {
   "cell_type": "code",
   "execution_count": 55,
   "metadata": {
    "colab": {
     "base_uri": "https://localhost:8080/"
    },
    "id": "VyJlE-RmCfJW",
    "outputId": "66938920-afb8-4d02-b967-6dfccea086c5"
   },
   "outputs": [
    {
     "data": {
      "text/plain": [
       "[1, 1, 1, 1, 0, 0, 1, 0, 0, 1, 1, 1, 0, 1, 1, 0]"
      ]
     },
     "execution_count": 55,
     "metadata": {},
     "output_type": "execute_result"
    }
   ],
   "source": [
    "# Post resultados\n",
    "[1 if prediction > 0.5 else 0 for prediction in y_hat ]"
   ]
  },
  {
   "cell_type": "code",
   "execution_count": 56,
   "metadata": {
    "colab": {
     "base_uri": "https://localhost:8080/"
    },
    "id": "1ZQkwTfzChjp",
    "outputId": "f394bec7-6161-4d91-a36f-83a1d4113f1d"
   },
   "outputs": [
    {
     "data": {
      "text/plain": [
       "array([1., 1., 1., 1., 0., 0., 1., 0., 0., 1., 1., 1., 1., 1., 1., 0.],\n",
       "      dtype=float32)"
      ]
     },
     "execution_count": 56,
     "metadata": {},
     "output_type": "execute_result"
    }
   ],
   "source": [
    "y_true"
   ]
  },
  {
   "cell_type": "markdown",
   "metadata": {
    "id": "JWLkhMCxEmaF"
   },
   "source": [
    "Calcular métricas"
   ]
  },
  {
   "cell_type": "code",
   "execution_count": 57,
   "metadata": {
    "colab": {
     "base_uri": "https://localhost:8080/"
    },
    "id": "yg68-q-WEq3H",
    "outputId": "39f71e23-5bb3-44e1-d1c4-5066a61727e9"
   },
   "outputs": [
    {
     "data": {
      "text/plain": [
       "0.90909094"
      ]
     },
     "execution_count": 57,
     "metadata": {},
     "output_type": "execute_result"
    }
   ],
   "source": [
    "# Crear un recall\n",
    "m = Recall()\n",
    "\n",
    "# Calcular los valores de recall\n",
    "m.update_state(y_true, y_hat)\n",
    "\n",
    "# Regresar el valor de recall\n",
    "m.result().numpy()"
   ]
  },
  {
   "cell_type": "code",
   "execution_count": 58,
   "metadata": {
    "colab": {
     "base_uri": "https://localhost:8080/"
    },
    "id": "K5Jc8wYtFCk5",
    "outputId": "2a9ef033-0d1e-4493-ada9-9e5fd4dbbcca"
   },
   "outputs": [
    {
     "data": {
      "text/plain": [
       "1.0"
      ]
     },
     "execution_count": 58,
     "metadata": {},
     "output_type": "execute_result"
    }
   ],
   "source": [
    "# Crear una precision\n",
    "p = Precision()\n",
    "\n",
    "# Calcular los valores de recall\n",
    "p.update_state(y_true, y_hat)\n",
    "\n",
    "# Regresar el valor de recall\n",
    "p.result().numpy()"
   ]
  },
  {
   "cell_type": "code",
   "execution_count": 59,
   "metadata": {
    "colab": {
     "base_uri": "https://localhost:8080/"
    },
    "id": "EphCldceE3te",
    "outputId": "4994ad9f-f349-4c25-b710-7484e164f3f9"
   },
   "outputs": [
    {
     "name": "stdout",
     "output_type": "stream",
     "text": [
      "0.9920364 1.0\n"
     ]
    }
   ],
   "source": [
    "r = Recall()\n",
    "p = Precision()\n",
    "\n",
    "for test_input, test_val, y_true in test_data.as_numpy_iterator():\n",
    "    yhat = red_final.predict([test_input, test_val])\n",
    "    r.update_state(y_true, yhat)\n",
    "    p.update_state(y_true,yhat)\n",
    "\n",
    "print(r.result().numpy(), p.result().numpy())"
   ]
  },
  {
   "cell_type": "code",
   "execution_count": 60,
   "metadata": {
    "colab": {
     "base_uri": "https://localhost:8080/",
     "height": 416
    },
    "id": "yjee9ppnF_0R",
    "outputId": "c0c9cfb2-8b2c-4194-8157-c0406fb80aa1"
   },
   "outputs": [
    {
     "data": {
      "image/png": "[encoded data removed]",
      "text/plain": [
       "<Figure size 1000x800 with 2 Axes>"
      ]
     },
     "metadata": {},
     "output_type": "display_data"
    }
   ],
   "source": [
    "#Visualizar resultados\n",
    "plt.figure(figsize=(10,8))\n",
    "\n",
    "# Set first subplot\n",
    "plt.subplot(1,2,1)\n",
    "plt.imshow(test_input[1])\n",
    "\n",
    "# Set second subplot\n",
    "plt.subplot(1,2,2)\n",
    "plt.imshow(test_val[1])\n",
    "\n",
    "# Render image\n",
    "plt.show()"
   ]
  },
  {
   "cell_type": "markdown",
   "metadata": {
    "id": "NeHlCNsoHMCl"
   },
   "source": [
    "Guardamos el modelo"
   ]
  },
  {
   "cell_type": "code",
   "execution_count": 61,
   "metadata": {
    "colab": {
     "base_uri": "https://localhost:8080/"
    },
    "id": "zDSRDFl_HNve",
    "outputId": "f0177a68-f4c9-487d-c9c0-17a5a08b35b5"
   },
   "outputs": [],
   "source": [
    "# Guardar los pesos del modelo\n",
    "red_final.save('siamesemodelv2.h5')"
   ]
  },
  {
   "cell_type": "code",
   "execution_count": 7,
   "metadata": {
    "colab": {
     "base_uri": "https://localhost:8080/"
    },
    "id": "s50H2JGgHvWZ",
    "outputId": "7ac09fd0-2149-4d0c-cff4-3d585f9abef8"
   },
   "outputs": [
    {
     "name": "stdout",
     "output_type": "stream",
     "text": [
      "WARNING:tensorflow:No training configuration found in the save file, so the model was *not* compiled. Compile it manually.\n"
     ]
    }
   ],
   "source": [
    "# Reload model\n",
    "siamese_model = tf.keras.models.load_model('siamesemodelv2.h5',\n",
    "                                   custom_objects={'L1Dist':L1Dist, 'BinaryCrossentropy':tf.losses.BinaryCrossentropy})"
   ]
  },
  {
   "cell_type": "code",
   "execution_count": 8,
   "metadata": {},
   "outputs": [],
   "source": [
    "def verify(model, detection_threshold, verification_threshold):\n",
    "    # Resultados para ver\n",
    "    results = []\n",
    "    for image in os.listdir(os.path.join('application_data', 'verification_images')):\n",
    "        input_img = preprocess(os.path.join('application_data', 'input_images', 'input_image.jpg'))\n",
    "        validation_img = preprocess(os.path.join('application_data', 'verification_images', image))\n",
    "        \n",
    "        # Realizar predicciones\n",
    "        result = model.predict(list(np.expand_dims([input_img, validation_img], axis=1)))\n",
    "        results.append(result)\n",
    "    \n",
    "    # Métrica para considerar que una clase es positiva\n",
    "    detection = np.sum(np.array(results) > detection_threshold)\n",
    "    \n",
    "    # Verificar la proporción de positivos y negativos\n",
    "    verification = detection / len(os.listdir(os.path.join('application_data', 'verification_images'))) \n",
    "    verified = verification > verification_threshold\n",
    "    \n",
    "    return results, verified"
   ]
  },
  {
   "cell_type": "code",
   "execution_count": null,
   "metadata": {},
   "outputs": [],
   "source": []
  },
  {
   "cell_type": "code",
   "execution_count": 11,
   "metadata": {},
   "outputs": [
    {
     "name": "stdout",
     "output_type": "stream",
     "text": [
      "False\n",
      "False\n",
      "False\n",
      "False\n",
      "True\n",
      "True\n",
      "True\n",
      "False\n",
      "True\n",
      "False\n",
      "False\n",
      "False\n",
      "False\n",
      "False\n",
      "False\n"
     ]
    }
   ],
   "source": [
    "cap = cv2.VideoCapture(0)\n",
    "while cap.isOpened():\n",
    "    ret, frame = cap.read()\n",
    "    frame = frame[120:120+250,200:200+250, :]\n",
    "    \n",
    "    cv2.imshow('Verification', frame)\n",
    "    \n",
    "    # Verification trigger\n",
    "    if cv2.waitKey(10) & 0xFF == ord('v'):\n",
    "        # Save input image to application_data/input_image folder \n",
    "        cv2.imwrite(os.path.join('application_data', 'input_images', 'input_image.jpg'), frame)\n",
    "        # Run verification\n",
    "        results, verified = verify(siamese_model, 0.5, 0.5)\n",
    "        print(verified)\n",
    "    \n",
    "    if cv2.waitKey(10) & 0xFF == ord('q'):\n",
    "        break\n",
    "cap.release()\n",
    "cv2.destroyAllWindows()"
   ]
  },
  {
   "cell_type": "code",
   "execution_count": 12,
   "metadata": {},
   "outputs": [
    {
     "data": {
      "text/plain": [
       "array([False, False, False, False, False, False, False, False, False,\n",
       "       False, False, False, False, False, False, False, False, False,\n",
       "       False, False, False, False, False, False, False, False, False,\n",
       "       False, False, False, False, False, False, False, False, False,\n",
       "       False, False, False, False, False, False, False, False, False,\n",
       "       False, False, False, False, False])"
      ]
     },
     "execution_count": 12,
     "metadata": {},
     "output_type": "execute_result"
    }
   ],
   "source": [
    "np.squeeze(results) > 0.5"
   ]
  }
 ],
 "metadata": {
  "accelerator": "GPU",
  "colab": {
   "gpuType": "T4",
   "provenance": []
  },
  "kernelspec": {
   "display_name": "Python 3",
   "language": "python",
   "name": "python3"
  },
  "language_info": {
   "codemirror_mode": {
    "name": "ipython",
    "version": 3
   },
   "file_extension": ".py",
   "mimetype": "text/x-python",
   "name": "python",
   "nbconvert_exporter": "python",
   "pygments_lexer": "ipython3",
   "version": "3.7.3"
  }
 },
 "nbformat": 4,
 "nbformat_minor": 1
}
